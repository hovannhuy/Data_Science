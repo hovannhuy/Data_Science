{
 "cells": [
  {
   "cell_type": "code",
   "execution_count": 5,
   "id": "144abcd6-f4c5-4758-a82a-586a78723791",
   "metadata": {},
   "outputs": [
    {
     "name": "stdout",
     "output_type": "stream",
     "text": [
      "    CustomerID First_Name    Last_Name  Phone_Number  \\\n",
      "0         1001      Frodo      Baggins  123-545-5421   \n",
      "1         1002       Abed        Nadir  123/643/9775   \n",
      "2         1003     Walter       /White    7066950392   \n",
      "3         1004     Dwight      Schrute  123-543-2345   \n",
      "4         1005        Jon         Snow  876|678|3469   \n",
      "5         1006        Ron      Swanson  304-762-2467   \n",
      "6         1007       Jeff       Winger           NaN   \n",
      "7         1008   Sherlock       Holmes  876|678|3469   \n",
      "8         1009    Gandalf          NaN           N/a   \n",
      "9         1010      Peter       Parker  123-545-5421   \n",
      "10        1011    Samwise       Gamgee           NaN   \n",
      "11        1012      Harry    ...Potter    7066950392   \n",
      "12        1013        Don       Draper  123-543-2345   \n",
      "13        1014     Leslie        Knope  876|678|3469   \n",
      "14        1015       Toby  Flenderson_  304-762-2467   \n",
      "15        1016        Ron      Weasley  123-545-5421   \n",
      "16        1017   Michael         Scott  123/643/9775   \n",
      "17        1018      Clark         Kent    7066950392   \n",
      "18        1019      Creed       Braton           N/a   \n",
      "19        1020     Anakin    Skywalker  876|678|3469   \n",
      "20        1020     Anakin    Skywalker  876|678|3469   \n",
      "\n",
      "                                  Address Paying Customer Do_Not_Contact  \\\n",
      "0                   123 Shire Lane, Shire             Yes             No   \n",
      "1                     93 West Main Street              No            Yes   \n",
      "2                      298 Drugs Driveway               N            NaN   \n",
      "3   980 Paper Avenue, Pennsylvania, 18503             Yes              Y   \n",
      "4                        123 Dragons Road               Y             No   \n",
      "5                        768 City Parkway             Yes            Yes   \n",
      "6                       1209 South Street              No             No   \n",
      "7                           98 Clue Drive               N             No   \n",
      "8                        123 Middle Earth             Yes            NaN   \n",
      "9              25th Main Street, New York             Yes             No   \n",
      "10                  612 Shire Lane, Shire             Yes             No   \n",
      "11                   2394 Hogwarts Avenue               Y            NaN   \n",
      "12                       2039 Main Street             Yes              N   \n",
      "13                       343 City Parkway             Yes             No   \n",
      "14                          214 HR Avenue               N             No   \n",
      "15                   2395 Hogwarts Avenue              No              N   \n",
      "16         121 Paper Avenue, Pennsylvania             Yes             No   \n",
      "17                        3498 Super Lane               Y            NaN   \n",
      "18                                    N/a             N/a            Yes   \n",
      "19            910 Tatooine Road, Tatooine             Yes              N   \n",
      "20            910 Tatooine Road, Tatooine             Yes              N   \n",
      "\n",
      "    Not_Useful_Column  \n",
      "0                True  \n",
      "1               False  \n",
      "2                True  \n",
      "3                True  \n",
      "4                True  \n",
      "5                True  \n",
      "6               False  \n",
      "7               False  \n",
      "8               False  \n",
      "9                True  \n",
      "10               True  \n",
      "11               True  \n",
      "12              False  \n",
      "13              False  \n",
      "14              False  \n",
      "15              False  \n",
      "16              False  \n",
      "17               True  \n",
      "18               True  \n",
      "19               True  \n",
      "20               True  \n"
     ]
    }
   ],
   "source": [
    "import pandas as pd  \n",
    "df=pd.read_excel(\"C:/Users/Admin/Downloads/archive (1)/Customer Call List.xlsx\")\n"
   ]
  },
  {
   "cell_type": "markdown",
   "id": "f5a2d42e",
   "metadata": {},
   "source": [
    "df.drop_duplicates()\n"
   ]
  }
 ],
 "metadata": {
  "kernelspec": {
   "display_name": "base",
   "language": "python",
   "name": "python3"
  },
  "language_info": {
   "codemirror_mode": {
    "name": "ipython",
    "version": 3
   },
   "file_extension": ".py",
   "mimetype": "text/x-python",
   "name": "python",
   "nbconvert_exporter": "python",
   "pygments_lexer": "ipython3",
   "version": "3.11.5"
  }
 },
 "nbformat": 4,
 "nbformat_minor": 5
}
